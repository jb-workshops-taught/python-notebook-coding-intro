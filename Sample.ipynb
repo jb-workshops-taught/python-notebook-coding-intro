{
 "cells": [
  {
   "cell_type": "markdown",
   "metadata": {},
   "source": [
    "# Success!!"
   ]
  },
  {
   "cell_type": "markdown",
   "metadata": {},
   "source": [
    "You will download and upload a notebook file for each of the lessons remaining.  Some parts of the notebook will be text, like this cell is.  Other parts will be interactive source code blocks and code examples.\n",
    "\n",
    "Each lesson will teach you a new concept, and then give you lots of opportunities to practice it.  At the end of each lesson, you can write your own code to try out things you choose.\n",
    "\n",
    "If you write your own code and want to save it for later, use the *File* menu to *Download as IPython Notebook*.  Keep track of where you save the file.  You can always upload it again later to keep working on it.  You can also use *File, New* to start with a blank sheet if you want to experiment with your own creative ideas."
   ]
  },
  {
   "cell_type": "code",
   "execution_count": 1,
   "metadata": {
    "collapsed": false
   },
   "outputs": [
    {
     "name": "stdout",
     "output_type": "stream",
     "text": [
      "I can download and upload lessons now.\n"
     ]
    }
   ],
   "source": [
    "print(\"I can download and upload lessons now.\")"
   ]
  },
  {
   "cell_type": "code",
   "execution_count": 2,
   "metadata": {
    "collapsed": false
   },
   "outputs": [
    {
     "name": "stdout",
     "output_type": "stream",
     "text": [
      "How many lessons are there?\n",
      "Lesson 1\n",
      "Lesson 2\n",
      "Lesson 3\n",
      "Lesson 4\n",
      "Lesson 5\n",
      "Lesson 6\n",
      "Lesson 7\n",
      "Lesson 8\n",
      "Lesson 9\n",
      "Lesson 10\n",
      "Lesson 11\n",
      "Lesson 12\n",
      "I'm going to finish every one!\n"
     ]
    }
   ],
   "source": [
    "print(\"How many lessons are there?\")\n",
    "for number in range(1, 13):\n",
    "    print(\"Lesson \" + str(number))\n",
    "print(\"I'm going to finish every one!\")"
   ]
  },
  {
   "cell_type": "code",
   "execution_count": 3,
   "metadata": {
    "collapsed": false
   },
   "outputs": [
    {
     "name": "stdout",
     "output_type": "stream",
     "text": [
      "Go back to the web page for the Next Lesson.\n"
     ]
    }
   ],
   "source": [
    "print(\"Go back to the web page for the Next Lesson.\")"
   ]
  }
 ],
 "metadata": {
  "kernelspec": {
   "display_name": "Python 2",
   "language": "python",
   "name": "python2"
  },
  "language_info": {
   "codemirror_mode": {
    "name": "ipython",
    "version": 2
   },
   "file_extension": ".py",
   "mimetype": "text/x-python",
   "name": "python",
   "nbconvert_exporter": "python",
   "pygments_lexer": "ipython2",
   "version": "2.7.8"
  }
 },
 "nbformat": 4,
 "nbformat_minor": 0
}
