{
 "cells": [
  {
   "cell_type": "markdown",
   "metadata": {
    "collapsed": false
   },
   "source": [
    "# Exercises for Lesson 2: Variables"
   ]
  },
  {
   "cell_type": "markdown",
   "metadata": {},
   "source": [
    "Here's a code example for your reference."
   ]
  },
  {
   "cell_type": "code",
   "execution_count": 10,
   "metadata": {
    "collapsed": false
   },
   "outputs": [
    {
     "name": "stdout",
     "output_type": "stream",
     "text": [
      "I have this many fruits:  11\n",
      "What is your favorite fruit?Oranges\n",
      "I like Oranges as well!\n"
     ]
    }
   ],
   "source": [
    "apples = 5\n",
    "bananas = 6\n",
    "total = apples + bananas\n",
    "print(\"I have this many fruits: \", total)\n",
    "fruit = input(\"What is your favorite fruit?\")\n",
    "print(\"I like \" + fruit + \" as well!\")"
   ]
  },
  {
   "cell_type": "markdown",
   "metadata": {},
   "source": [
    "### Now it's your turn! \n",
    "\n",
    "Write an input statement that asks the user: What day of the week is today? Save the result in a variable named weekday."
   ]
  },
  {
   "cell_type": "code",
   "execution_count": null,
   "metadata": {
    "collapsed": true
   },
   "outputs": [],
   "source": []
  },
  {
   "cell_type": "markdown",
   "metadata": {},
   "source": [
    "Write a print statement that uses the weekday variable to print: (whatever day they typed in) is a great day."
   ]
  },
  {
   "cell_type": "code",
   "execution_count": null,
   "metadata": {
    "collapsed": true
   },
   "outputs": [],
   "source": []
  },
  {
   "cell_type": "markdown",
   "metadata": {},
   "source": [
    "I have 4 red balls and 8 purple balls.  Create variables to store those numbers."
   ]
  },
  {
   "cell_type": "code",
   "execution_count": null,
   "metadata": {
    "collapsed": true
   },
   "outputs": [],
   "source": []
  },
  {
   "cell_type": "markdown",
   "metadata": {},
   "source": [
    "Write code to figure out how many total balls I have.  Print a sentence: You have _ balls in total!  The code should fill in the blank with the appropriate variable that you created just above."
   ]
  },
  {
   "cell_type": "code",
   "execution_count": null,
   "metadata": {
    "collapsed": true
   },
   "outputs": [],
   "source": []
  },
  {
   "cell_type": "markdown",
   "metadata": {},
   "source": [
    "Start some new variables.  I have 12 fish.  Some are orange, some are black, and some are white.  I have 3 orange fish.  I have 2 more black fish than I do orange fish.  How many white fish do I have?\n",
    "\n",
    "Write code to represent each variable and calculation, showing your work at every step.  Then print the final answer."
   ]
  },
  {
   "cell_type": "code",
   "execution_count": null,
   "metadata": {
    "collapsed": true
   },
   "outputs": [],
   "source": []
  },
  {
   "cell_type": "markdown",
   "metadata": {},
   "source": [
    "Write code using print statements to draw this triangle.\n",
    "\n",
    "    #########\n",
    "     #######\n",
    "      #####\n",
    "       ###\n",
    "        #\n",
    "\n",
    "Make sure it looks the same and isn't lopsided!"
   ]
  },
  {
   "cell_type": "code",
   "execution_count": null,
   "metadata": {
    "collapsed": true
   },
   "outputs": [],
   "source": []
  },
  {
   "cell_type": "markdown",
   "metadata": {},
   "source": [
    "Anya wants to make a [silly story](https://en.wikipedia.org/wiki/Mad_Libs) for her friends.  She has a paragraph of text with some words erased.  \n",
    "\n",
    "She's going to ask her friends to provide nouns and verbs to fill in the blanks, and then read back the silly story.  She wants you to write some code to do this for her, so she can play the game repeatedly with different friends and different words.\n",
    "\n",
    "She wants: 3 nouns, 4 verbs, 1 adjective.  \n",
    "\n",
    "Write some code below to input those 8 words from the user, and store them in variables.  You may want to read ahead to the next step for ideas on what to name your variables.\n"
   ]
  },
  {
   "cell_type": "code",
   "execution_count": null,
   "metadata": {
    "collapsed": true
   },
   "outputs": [],
   "source": []
  },
  {
   "cell_type": "markdown",
   "metadata": {},
   "source": [
    "**Here's the story Anya wants you to fill in the blanks on.  Write some code below that prints the story. Instead of the italics words, your code should print your variables, for each word marked with a part of speech.**"
   ]
  },
  {
   "cell_type": "markdown",
   "metadata": {},
   "source": [
    "No mechanical toy is more interesting to make, nor more interesting to watch in operation, than a miniature _windmill_(noun1). It is a very simple toy to _construct_(verb1), and the _material_(noun2) for making one can usually be found at hand, which are two reasons why nearly every boy and girl at one time or another _builds_(verb2) one.\n",
    "\n",
    "The _Paper_(adjective) _Pinwheel_(noun1) is one of the best _whirlers_(verb3) ever devised. A slight forward _thrust_(verb4) of the _handle_(noun3) upon which it is mounted starts it in motion, and when you run with the stick extended in front of you it _whirls_(verb3) at a merry speed.\n",
    "\n"
   ]
  },
  {
   "cell_type": "markdown",
   "metadata": {},
   "source": [
    "**Copy your code from the prior box, paste it below, and then add more code to print the story with the input words filled in, so that everything is run from one box.  This way, when you press control-enter to run it, it will prompt for new input words each time, and print the story using those words.**"
   ]
  },
  {
   "cell_type": "code",
   "execution_count": null,
   "metadata": {
    "collapsed": true
   },
   "outputs": [],
   "source": []
  },
  {
   "cell_type": "markdown",
   "metadata": {},
   "source": [
    "**Once your silly story works right, you're done with these exercises.  Head back to the web page for the next lesson!**"
   ]
  }
 ],
 "metadata": {
  "kernelspec": {
   "display_name": "Python 3",
   "language": "python",
   "name": "python3"
  },
  "language_info": {
   "codemirror_mode": {
    "name": "ipython",
    "version": 3
   },
   "file_extension": ".py",
   "mimetype": "text/x-python",
   "name": "python",
   "nbconvert_exporter": "python",
   "pygments_lexer": "ipython3",
   "version": "3.3.5"
  }
 },
 "nbformat": 4,
 "nbformat_minor": 0
}
