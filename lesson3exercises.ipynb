{
 "cells": [
  {
   "cell_type": "code",
   "execution_count": 37,
   "metadata": {
    "collapsed": false
   },
   "outputs": [
    {
     "name": "stdout",
     "output_type": "stream",
     "text": [
      "What time of day is it? Answer day or night: night\n",
      "What season is it? Answer winter, summer, or spring: spring\n",
      "\n",
      "Spring nights are chilly.\n",
      "See you later!\n"
     ]
    }
   ],
   "source": [
    "time = input(\"What time of day is it? Answer day or night: \")\n",
    "season = input(\"What season is it? Answer winter, summer, or spring: \")\n",
    "print(\"\")\n",
    "if (season == \"winter\"):\n",
    "    if(time == \"day\"):\n",
    "        print(\"Winter in the daytime can be very bright with snow.\")\n",
    "    else:\n",
    "        print(\"Winter at night is beautiful with moonlight on the snow.\")\n",
    "elif (season == \"summer\"):\n",
    "    if(time == \"day\"):\n",
    "        print(\"Summer days are for play!\")\n",
    "    else:\n",
    "        print(\"Summer nights are warm but not bright.\")\n",
    "else:\n",
    "    if(time == \"day\"):\n",
    "        print(\"Spring flowers are so colorful in the rain.\")\n",
    "    else:\n",
    "        print(\"Spring nights are chilly.\")\n",
    "print(\"See you later!\")"
   ]
  }
 ],
 "metadata": {
  "kernelspec": {
   "display_name": "Python 3",
   "language": "python",
   "name": "python3"
  },
  "language_info": {
   "codemirror_mode": {
    "name": "ipython",
    "version": 3
   },
   "file_extension": ".py",
   "mimetype": "text/x-python",
   "name": "python",
   "nbconvert_exporter": "python",
   "pygments_lexer": "ipython3",
   "version": "3.3.5"
  }
 },
 "nbformat": 4,
 "nbformat_minor": 0
}
