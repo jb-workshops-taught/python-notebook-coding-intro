{
 "cells": [
  {
   "cell_type": "markdown",
   "metadata": {
    "collapsed": false
   },
   "source": [
    "# Lesson 3: If Statements"
   ]
  },
  {
   "cell_type": "markdown",
   "metadata": {},
   "source": [
    "Here's a syntax example for reference."
   ]
  },
  {
   "cell_type": "code",
   "execution_count": 45,
   "metadata": {
    "collapsed": false
   },
   "outputs": [
    {
     "name": "stdout",
     "output_type": "stream",
     "text": [
      "Number? 35\n",
      "Too low\n"
     ]
    }
   ],
   "source": [
    "num = int(input(\"Number? \"))\n",
    "if (num < 40):\n",
    "    print(\"Too low\")\n",
    "elif (num > 50):\n",
    "    print(\"Too high\")\n",
    "elif (num == 42):\n",
    "    print(\"Just right!\")\n",
    "else:\n",
    "    print(\"You're sort of close.\")"
   ]
  },
  {
   "cell_type": "markdown",
   "metadata": {},
   "source": [
    "**Write code that represents this situation.**\n",
    "\n",
    "* Jamie has some carrots.  The code will ask the user to input how many carrots.\n",
    "* Latanya has some hamsters.  The code will ask the user to input how many hamsters.\n",
    "\n",
    "Then it will print a message.\n",
    "\n",
    "* If there are more carrots than hamsters, the code should print \"Too many carrots!\"\n",
    "* If there are more hamsters than carrots, the code should print \"Too many hamsters!\"\n",
    "* If there are the same amount of each, the code should print \"A carrot for every hamster and a hamster for every carrot!\"\n",
    "\n",
    "Make sure you run your code several times and test all 3 scenarios!"
   ]
  },
  {
   "cell_type": "code",
   "execution_count": null,
   "metadata": {
    "collapsed": true
   },
   "outputs": [],
   "source": []
  },
  {
   "cell_type": "markdown",
   "metadata": {},
   "source": [
    "**Here is the day/season example from the lesson.  Modify it to include autumn day and night.**"
   ]
  },
  {
   "cell_type": "code",
   "execution_count": null,
   "metadata": {
    "collapsed": true
   },
   "outputs": [],
   "source": [
    "time = input(\"What time of day is it? Answer day or night: \")\n",
    "season = input(\"What season is it? Answer winter, summer, or spring: \")\n",
    "print(\"\")\n",
    "if (season == \"winter\"):\n",
    "    if(time == \"day\"):\n",
    "        print(\"Winter in the daytime can be very bright with snow.\")\n",
    "    else:\n",
    "        print(\"Winter at night is beautiful with moonlight on the snow.\")\n",
    "elif (season == \"summer\"):\n",
    "    if(time == \"day\"):\n",
    "        print(\"Summer days are for play!\")\n",
    "    else:\n",
    "        print(\"Summer nights are warm but not bright.\")\n",
    "else:\n",
    "    if(time == \"day\"):\n",
    "        print(\"Spring flowers are so colorful in the daytime rain.\")\n",
    "    else:\n",
    "        print(\"Spring nights are chilly.\")\n",
    "print(\"See you later!\")\n"
   ]
  },
  {
   "cell_type": "markdown",
   "metadata": {},
   "source": [
    "**Bonus: Combining boolean conditions**\n",
    "\n",
    "You can use and, or, not, and parentheses to combine boolean variables logically.  Here are several examples and then a couple more challenge problems.\n"
   ]
  },
  {
   "cell_type": "code",
   "execution_count": 53,
   "metadata": {
    "collapsed": true
   },
   "outputs": [],
   "source": [
    "a = False\n",
    "b = False\n",
    "c = True"
   ]
  },
  {
   "cell_type": "code",
   "execution_count": 48,
   "metadata": {
    "collapsed": false
   },
   "outputs": [
    {
     "name": "stdout",
     "output_type": "stream",
     "text": [
      "False\n"
     ]
    }
   ],
   "source": [
    "print(a and b)"
   ]
  },
  {
   "cell_type": "code",
   "execution_count": 49,
   "metadata": {
    "collapsed": false
   },
   "outputs": [
    {
     "name": "stdout",
     "output_type": "stream",
     "text": [
      "False\n"
     ]
    }
   ],
   "source": [
    "print(a and c)"
   ]
  },
  {
   "cell_type": "code",
   "execution_count": 50,
   "metadata": {
    "collapsed": false
   },
   "outputs": [
    {
     "name": "stdout",
     "output_type": "stream",
     "text": [
      "True\n"
     ]
    }
   ],
   "source": [
    "print(a or c)"
   ]
  },
  {
   "cell_type": "code",
   "execution_count": 52,
   "metadata": {
    "collapsed": false
   },
   "outputs": [
    {
     "name": "stdout",
     "output_type": "stream",
     "text": [
      "True\n"
     ]
    }
   ],
   "source": [
    "print(not False)"
   ]
  },
  {
   "cell_type": "code",
   "execution_count": 54,
   "metadata": {
    "collapsed": false
   },
   "outputs": [
    {
     "name": "stdout",
     "output_type": "stream",
     "text": [
      "True\n"
     ]
    }
   ],
   "source": [
    "print(not a)"
   ]
  },
  {
   "cell_type": "code",
   "execution_count": 56,
   "metadata": {
    "collapsed": false
   },
   "outputs": [
    {
     "name": "stdout",
     "output_type": "stream",
     "text": [
      "True\n"
     ]
    }
   ],
   "source": [
    "print(True and True)"
   ]
  },
  {
   "cell_type": "markdown",
   "metadata": {},
   "source": [
    "As you might have figured out, ThingA \"and\" ThingB is only true when both ThingA is true and ThingB is true.  Likewise, \"ThingA and ThingB and ThingC and ThingD\" is only true when all of them are true.\n",
    "\n",
    "ThingA \"or\" ThingB is true when any one of them is true.  Likewise, \"ThingA or ThingB or ThingC or ThingD\" is true if any one of them is true.\n",
    "\n",
    "\"Not\" flips the meaning.  That which is not true, is obviously false. That which is not false, is true."
   ]
  },
  {
   "cell_type": "markdown",
   "metadata": {},
   "source": [
    "What does this code print?  Think about each one, decide on your answer, and then run it to check your results."
   ]
  },
  {
   "cell_type": "code",
   "execution_count": null,
   "metadata": {
    "collapsed": true
   },
   "outputs": [],
   "source": [
    "print(True and True and True and False and True)"
   ]
  },
  {
   "cell_type": "code",
   "execution_count": null,
   "metadata": {
    "collapsed": true
   },
   "outputs": [],
   "source": [
    "print(True or True or True or False or True)"
   ]
  },
  {
   "cell_type": "code",
   "execution_count": null,
   "metadata": {
    "collapsed": true
   },
   "outputs": [],
   "source": [
    "print(False or False or False or True or False)"
   ]
  },
  {
   "cell_type": "code",
   "execution_count": null,
   "metadata": {
    "collapsed": true
   },
   "outputs": [],
   "source": [
    "print(False and False and False and True and False)"
   ]
  },
  {
   "cell_type": "markdown",
   "metadata": {},
   "source": [
    "Here are some boolean (true-false) variables that represent certain conditions."
   ]
  },
  {
   "cell_type": "code",
   "execution_count": 57,
   "metadata": {
    "collapsed": true
   },
   "outputs": [],
   "source": [
    "isDaytime = False\n",
    "isRaining = True\n",
    "isWarmOutside = True"
   ]
  },
  {
   "cell_type": "markdown",
   "metadata": {},
   "source": [
    "Using those variables, write a boolean expression that represents the following statement (goForWalk should be true only when all of the appropriate conditions are met).\n",
    "\n",
    "I will go for a walk only during the day, when it is warm outside, and not raining."
   ]
  },
  {
   "cell_type": "code",
   "execution_count": null,
   "metadata": {
    "collapsed": true
   },
   "outputs": [],
   "source": [
    "goForWalk = ?"
   ]
  },
  {
   "cell_type": "markdown",
   "metadata": {},
   "source": [
    "The final box is for you to experiment with your own ideas.  Get creative!  You know enough code now to create some interesting things!"
   ]
  },
  {
   "cell_type": "code",
   "execution_count": null,
   "metadata": {
    "collapsed": true
   },
   "outputs": [],
   "source": []
  }
 ],
 "metadata": {
  "kernelspec": {
   "display_name": "Python 3",
   "language": "python",
   "name": "python3"
  },
  "language_info": {
   "codemirror_mode": {
    "name": "ipython",
    "version": 3
   },
   "file_extension": ".py",
   "mimetype": "text/x-python",
   "name": "python",
   "nbconvert_exporter": "python",
   "pygments_lexer": "ipython3",
   "version": "3.3.5"
  }
 },
 "nbformat": 4,
 "nbformat_minor": 0
}
