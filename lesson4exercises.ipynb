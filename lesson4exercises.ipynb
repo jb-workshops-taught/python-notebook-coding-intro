{
 "cells": [
  {
   "cell_type": "markdown",
   "metadata": {},
   "source": [
    "# Lesson 4: Functions"
   ]
  },
  {
   "cell_type": "markdown",
   "metadata": {},
   "source": [
    "Here are two syntax examples from the lesson, for your reference."
   ]
  },
  {
   "cell_type": "code",
   "execution_count": 1,
   "metadata": {
    "collapsed": false
   },
   "outputs": [
    {
     "name": "stdout",
     "output_type": "stream",
     "text": [
      "Let's dance!!\n",
      "\n",
      "You put your left hand in,\n",
      "You put your left hand out,\n",
      "You put your left hand in,\n",
      "and you shake it all about.\n",
      "You do the hokey pokey and you turn yourself around,\n",
      "and that's what it's all about!\n",
      "\n"
     ]
    }
   ],
   "source": [
    "def hokeypokey(limb):\n",
    "    print(\"You put your \" + limb +\" in,\")\n",
    "    print(\"You put your \" + limb + \" out,\")\n",
    "    print(\"You put your \" + limb +\" in,\")\n",
    "    print(\"and you shake it all about.\")\n",
    "    print(\"You do the hokey pokey and you turn yourself around,\")\n",
    "    print(\"and that's what it's all about!\")\n",
    "    print(\"\")\n",
    "    \n",
    "print(\"Let's dance!!\")\n",
    "print(\"\")\n",
    "hokeypokey(\"left hand\")"
   ]
  },
  {
   "cell_type": "code",
   "execution_count": 2,
   "metadata": {
    "collapsed": false
   },
   "outputs": [
    {
     "name": "stdout",
     "output_type": "stream",
     "text": [
      "200.0\n"
     ]
    }
   ],
   "source": [
    "def mult(a, b):\n",
    "    return a * b\n",
    "\n",
    "def sub(first, second):\n",
    "    return first - second\n",
    "\n",
    "def half(num):\n",
    "    return num / 2\n",
    "\n",
    "\n",
    "x = 50\n",
    "y = 10\n",
    "print(sub(half(mult(x, y)), x))"
   ]
  },
  {
   "cell_type": "markdown",
   "metadata": {},
   "source": [
    "**Mail merge.  Write a function named sendEmail(address, name).**  It should take two parameters.  One is the email address of the recipient.  The other is the first name of the recipient.  The function should print a message like this:\n",
    "\n",
    "Sending email to [email address].\n",
    "Hello [name].  I'm writing you today because you may be the hero our charity needs.  Can you make a donation?\n",
    "\n",
    "**Then call the function a few times with different names and email addresses (they can be fake).**  Be sure the message prints out once for each person you call it for."
   ]
  },
  {
   "cell_type": "code",
   "execution_count": null,
   "metadata": {
    "collapsed": true
   },
   "outputs": [],
   "source": []
  },
  {
   "cell_type": "markdown",
   "metadata": {},
   "source": [
    "**FizzBuzz!** Write a function that takes a number as input.  If the number is evenly divisible by 2 with no remainder, print Fizz.  If the number is evenly divisible by 10, print Buzz.  If it's divisible by both, print both Fizz and Buzz.  Otherwise, just print the number.  \n",
    "\n",
    "Note: You can calculate the remainder of A / B division by using the modulus % operator like this: \n",
    "\n",
    "    remainder = A % B\n",
    "\n",
    "Then call the fizzbuzz function with the following numbers: 1, 3, 5, 9, 10, 12, 20, 25, 50, 60."
   ]
  },
  {
   "cell_type": "code",
   "execution_count": null,
   "metadata": {
    "collapsed": true
   },
   "outputs": [],
   "source": []
  },
  {
   "cell_type": "markdown",
   "metadata": {},
   "source": [
    "Ani has found herself in another world.  It's very similar but some names are different.  Addition is called splond.  Subtraction is called plink.  There's a special word _foon_ for taking a number, multiplying it by ten, and then adding five to it.\n",
    "\n",
    "Write functions for splond, plink, and foon, that take 2 input parameters each.  Then write several lines of code that call those functions and print the results so you can verify they are correct."
   ]
  },
  {
   "cell_type": "code",
   "execution_count": 3,
   "metadata": {
    "collapsed": true
   },
   "outputs": [],
   "source": [
    "def splond(a, b):\n",
    "    return a + b\n",
    "def plink(a, b):\n",
    "    return a - b\n",
    "def foon(a, b):\n",
    "    return a * 10 + 5"
   ]
  },
  {
   "cell_type": "markdown",
   "metadata": {},
   "source": [
    "Check that your results are right.  This statement should run properly."
   ]
  },
  {
   "cell_type": "code",
   "execution_count": null,
   "metadata": {
    "collapsed": false
   },
   "outputs": [],
   "source": [
    "answer = foon(splond(3, 2), plink(5, 3))\n",
    "if (answer == 55):\n",
    "    print(\"You got it!\")\n",
    "else:\n",
    "    print(\"Not quite - keep working on your functions.\")"
   ]
  },
  {
   "cell_type": "markdown",
   "metadata": {},
   "source": [
    "The next box is an experimental area for you to explore your own creative ideas!"
   ]
  },
  {
   "cell_type": "code",
   "execution_count": null,
   "metadata": {
    "collapsed": true
   },
   "outputs": [],
   "source": []
  }
 ],
 "metadata": {
  "kernelspec": {
   "display_name": "Python 3",
   "language": "python",
   "name": "python3"
  },
  "language_info": {
   "codemirror_mode": {
    "name": "ipython",
    "version": 3
   },
   "file_extension": ".py",
   "mimetype": "text/x-python",
   "name": "python",
   "nbconvert_exporter": "python",
   "pygments_lexer": "ipython3",
   "version": "3.3.5"
  }
 },
 "nbformat": 4,
 "nbformat_minor": 0
}
