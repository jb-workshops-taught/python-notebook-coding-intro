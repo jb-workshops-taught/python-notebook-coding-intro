{
 "cells": [
  {
   "cell_type": "markdown",
   "metadata": {
    "collapsed": false
   },
   "source": [
    "# Lesson 5: While Loops\n"
   ]
  },
  {
   "cell_type": "markdown",
   "metadata": {},
   "source": [
    "Here's a code example of a while loop.  You can refer to it for ideas."
   ]
  },
  {
   "cell_type": "code",
   "execution_count": 5,
   "metadata": {
    "collapsed": false
   },
   "outputs": [
    {
     "name": "stdout",
     "output_type": "stream",
     "text": [
      "Still going!  0\n",
      "Still going!  1\n",
      "Still going!  2\n",
      "Still going!  3\n",
      "Still going!  4\n",
      "All done!\n"
     ]
    }
   ],
   "source": [
    "count = 0\n",
    "while (count < 5):\n",
    "   print \"Still going! \", count\n",
    "   count = (count + 1)\n",
    "print \"All done!\""
   ]
  },
  {
   "cell_type": "markdown",
   "metadata": {},
   "source": [
    "Sally wants a program that counts backwards from 10 down to 0.  Use a while loop to write the program."
   ]
  },
  {
   "cell_type": "code",
   "execution_count": null,
   "metadata": {
    "collapsed": true
   },
   "outputs": [],
   "source": []
  },
  {
   "cell_type": "markdown",
   "metadata": {},
   "source": [
    "Sami wants a program that counts upwards from 0 to 100 by 5's (so it prints 0, 5, 10, 15, 20, and so on).  Write the program using a while loop."
   ]
  },
  {
   "cell_type": "code",
   "execution_count": null,
   "metadata": {
    "collapsed": true
   },
   "outputs": [],
   "source": []
  },
  {
   "cell_type": "markdown",
   "metadata": {},
   "source": [
    "Juna wants a program that takes a list of student names, and prints each name after it's entered. The program should keep running until \"quit\" is entered.  Write the program using a while loop."
   ]
  },
  {
   "cell_type": "code",
   "execution_count": null,
   "metadata": {
    "collapsed": true
   },
   "outputs": [],
   "source": []
  },
  {
   "cell_type": "markdown",
   "metadata": {},
   "source": [
    "Here's an example of how to append text to a text variable.  This is helpful if you want to print several things on one line, without the computer going to a new line in between."
   ]
  },
  {
   "cell_type": "code",
   "execution_count": 12,
   "metadata": {
    "collapsed": false
   },
   "outputs": [
    {
     "name": "stdout",
     "output_type": "stream",
     "text": [
      "Hello, Jenny. How are you today? \n"
     ]
    }
   ],
   "source": [
    "text = \"Hello, \"\n",
    "text = text + \"Jenny. \"\n",
    "text = text + \"How are you today? \"\n",
    "print text"
   ]
  },
  {
   "cell_type": "markdown",
   "metadata": {},
   "source": [
    "Tonya wants a program that prints a bar graph.  If the user types in 4, then the program should print 4 # marks like this: ####  If the user types in 5, it should print 5 hash marks in a row, and so on.  Whatever number the user types in, the program prints one line with that many hashes in it, and then ends.  The user only enters one number each time.  Write the program."
   ]
  },
  {
   "cell_type": "code",
   "execution_count": null,
   "metadata": {
    "collapsed": true
   },
   "outputs": [],
   "source": []
  },
  {
   "cell_type": "markdown",
   "metadata": {},
   "source": [
    "Tonya likes your bar graph program.  Now she wants a variant of it where the user keeps entering numbers, and each time they do, the program prints a bar graph that many hashes wide.\n",
    "\n",
    "You can write this by putting a while loop inside another while loop.  Pay close attention to the indentation here.  Write the program."
   ]
  },
  {
   "cell_type": "code",
   "execution_count": null,
   "metadata": {
    "collapsed": true
   },
   "outputs": [],
   "source": []
  },
  {
   "cell_type": "markdown",
   "metadata": {},
   "source": [
    "### Guess My Number\n",
    "\n",
    "In this final challenge exercise, you'll write an interactive game.  Think carefully about what goes before the loop (set up process), what goes inside the loop (game play), and what goes after the loop (finishing).\n",
    "\n",
    "The computer will come up with a random number between 1 and 20.  The player will try to guess the number.  The computer will tell them whether they should guess higher, guess lower, or if they got it.\n",
    "\n",
    "The player gets as many guesses as they want to try to guess the secret number.  Here's a sample run:\n",
    "\n",
    "\n"
   ]
  },
  {
   "cell_type": "markdown",
   "metadata": {},
   "source": [
    "    Welcome to Guess My Number!\n",
    "    I'm thinking of a secret number from 1 to 20.  What is it?\n",
    "    \n",
    "    Guess: 10\n",
    "    My secret number is higher.\n",
    "    \n",
    "    Guess: 15\n",
    "    My secret number is lower.\n",
    "    \n",
    "    Guess: 12\n",
    "    My secret number is higher.\n",
    "    \n",
    "    Guess: 13\n",
    "    You got it!\n",
    "\n",
    "    You win."
   ]
  },
  {
   "cell_type": "code",
   "execution_count": 10,
   "metadata": {
    "collapsed": false
   },
   "outputs": [
    {
     "name": "stdout",
     "output_type": "stream",
     "text": [
      "16\n"
     ]
    }
   ],
   "source": [
    "# Here's how you make the computer come up with a secret number.\n",
    "\n",
    "# First we need the helper code that makes random numbers (just once).\n",
    "import random\n",
    "\n",
    "# Each time we want a new random number, we call this.\n",
    "secret = random.randrange(1, 20)\n",
    "\n",
    "# Let's see what it chose.\n",
    "print secret"
   ]
  },
  {
   "cell_type": "code",
   "execution_count": null,
   "metadata": {
    "collapsed": true
   },
   "outputs": [],
   "source": []
  },
  {
   "cell_type": "code",
   "execution_count": null,
   "metadata": {
    "collapsed": true
   },
   "outputs": [],
   "source": []
  },
  {
   "cell_type": "code",
   "execution_count": null,
   "metadata": {
    "collapsed": true
   },
   "outputs": [],
   "source": []
  },
  {
   "cell_type": "code",
   "execution_count": null,
   "metadata": {
    "collapsed": true
   },
   "outputs": [],
   "source": []
  }
 ],
 "metadata": {
  "kernelspec": {
   "display_name": "Python 2",
   "language": "python",
   "name": "python2"
  },
  "language_info": {
   "codemirror_mode": {
    "name": "ipython",
    "version": 2
   },
   "file_extension": ".py",
   "mimetype": "text/x-python",
   "name": "python",
   "nbconvert_exporter": "python",
   "pygments_lexer": "ipython2",
   "version": "2.7.10"
  }
 },
 "nbformat": 4,
 "nbformat_minor": 0
}
