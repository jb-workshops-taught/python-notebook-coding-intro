{
 "cells": [
  {
   "cell_type": "markdown",
   "metadata": {},
   "source": [
    "# Lesson 6: For Loops and Arrays"
   ]
  },
  {
   "cell_type": "markdown",
   "metadata": {},
   "source": [
    "A for loop counts from a start number to an end number.\n",
    "An array holds a list of related values."
   ]
  },
  {
   "cell_type": "code",
   "execution_count": 10,
   "metadata": {
    "collapsed": false
   },
   "outputs": [
    {
     "name": "stdout",
     "output_type": "stream",
     "text": [
      "3\n",
      "Whee!\n",
      "4\n",
      "Whee!\n",
      "5\n",
      "Whee!\n",
      "6\n",
      "Whee!\n",
      "Done.\n"
     ]
    }
   ],
   "source": [
    "# For loop example \n",
    "for counter in range(3, 7):\n",
    "    print counter\n",
    "    print \"Whee!\"\n",
    "print \"Done.\""
   ]
  },
  {
   "cell_type": "code",
   "execution_count": 9,
   "metadata": {
    "collapsed": false
   },
   "outputs": [
    {
     "name": "stdout",
     "output_type": "stream",
     "text": [
      "Sally's age is  12\n",
      "Bobby's age is  9\n",
      "Tommy's age is  7\n",
      "Tonya's age is  5\n",
      "Child  Sally  is  12  years old.\n",
      "Child  Bobby  is  9  years old.\n",
      "Child  Tommy  is  7  years old.\n",
      "Child  Tonya  is  5  years old.\n"
     ]
    }
   ],
   "source": [
    "# Arrays example\n",
    "children = [\"Sally\", \"Bobby\", \"Tommy\", \"Tonya\"]\n",
    "ages = [12, 9, 7, 5]\n",
    "\n",
    "print \"Sally's age is \", ages[0]\n",
    "print \"Bobby's age is \", ages[1]\n",
    "print \"Tommy's age is \", ages[2]\n",
    "print \"Tonya's age is \", ages[3]\n",
    "\n",
    "for count in range(0, 4):\n",
    "    print \"Child \", children[count], \" is \", ages[count], \" years old.\""
   ]
  },
  {
   "cell_type": "markdown",
   "metadata": {},
   "source": [
    "How would you write a for loop to walk through this list of day numbers and temperatures, and print the temp for each day?\n"
   ]
  },
  {
   "cell_type": "code",
   "execution_count": 12,
   "metadata": {
    "collapsed": true
   },
   "outputs": [],
   "source": [
    "# July temperatures\n",
    "day   = [10, 11, 12, 13, 14, 15, 16, 17, 18, 19, 20]\n",
    "temp  = [81, 82, 80, 75, 74, 80, 78, 75, 72, 74, 76]\n",
    "\n",
    "# print something like:\n",
    "# July 10: High of 81\n",
    "# July 11: High of 82\n",
    "# ..."
   ]
  },
  {
   "cell_type": "markdown",
   "metadata": {},
   "source": [
    "### Hot Days\n",
    "\n",
    "Write code that walks through this list of values, prints just the number for temps of 90 and below, but prints the number with \"Hot!!!\" after it for any temperature above 90."
   ]
  },
  {
   "cell_type": "code",
   "execution_count": 13,
   "metadata": {
    "collapsed": true
   },
   "outputs": [],
   "source": [
    "temp  = [81, 82, 80, 95, 84, 89, 90, 95, 82, 84, 96]\n",
    "\n"
   ]
  },
  {
   "cell_type": "markdown",
   "metadata": {},
   "source": [
    "### Day Camp: Present/Absent\n",
    "\n",
    "Alex runs a day camp for children.  He wants a small program to keep track of what children are present or absent each day.  The program should let the user type in a child's name, and then A or P for absent or present.  It should keep track of the whole list of children this way (in an array for the names, and another array for A or P).  There are exactly 6 children coming to camp this time, so the program will stop after exactly 6 names.  Once the names are all entered, the program should print \"Present:\" and a list of the names of children who are present that day.  Then it should print \"Absent:\" and a list of the names of children who are absent that day."
   ]
  },
  {
   "cell_type": "code",
   "execution_count": null,
   "metadata": {
    "collapsed": true
   },
   "outputs": [],
   "source": []
  },
  {
   "cell_type": "markdown",
   "metadata": {},
   "source": [
    "### Challenge: Groceries\n",
    "\n",
    "Zalia wants a grocery calculator.  Write a program that asks the user to enter the name of a grocery item, the price of the item, and then the quantity of that item.  It should store each of those in arrays.  Then it asks for the next item.  It keeps asking for more items like this until the user puts in \"quit\" as the item name.\n",
    "\n",
    "Then, it goes through the arrays once more.  It calculates the price * quantity for each item, and adds up a total cost for the entire order.  Then it prints out the total cost.\n",
    "\n",
    "This challenge will use arrays, for loops, and a while loop.  You may have an easier time planning this on paper first."
   ]
  },
  {
   "cell_type": "code",
   "execution_count": null,
   "metadata": {
    "collapsed": true
   },
   "outputs": [],
   "source": [
    "# Here are some variable name ideas to get you started. \n",
    "# You can change these lines as necessary.\n",
    "\n",
    "total = 0.00\n",
    "items = [ \"\", \"\", \"\" ]\n",
    "prices = [ ]\n",
    "quantities = [ ]\n",
    "\n",
    "\n"
   ]
  },
  {
   "cell_type": "code",
   "execution_count": null,
   "metadata": {
    "collapsed": true
   },
   "outputs": [],
   "source": []
  },
  {
   "cell_type": "code",
   "execution_count": null,
   "metadata": {
    "collapsed": true
   },
   "outputs": [],
   "source": []
  },
  {
   "cell_type": "code",
   "execution_count": null,
   "metadata": {
    "collapsed": true
   },
   "outputs": [],
   "source": []
  },
  {
   "cell_type": "code",
   "execution_count": null,
   "metadata": {
    "collapsed": true
   },
   "outputs": [],
   "source": []
  }
 ],
 "metadata": {
  "kernelspec": {
   "display_name": "Python 2",
   "language": "python",
   "name": "python2"
  },
  "language_info": {
   "codemirror_mode": {
    "name": "ipython",
    "version": 2
   },
   "file_extension": ".py",
   "mimetype": "text/x-python",
   "name": "python",
   "nbconvert_exporter": "python",
   "pygments_lexer": "ipython2",
   "version": "2.7.10"
  }
 },
 "nbformat": 4,
 "nbformat_minor": 0
}
