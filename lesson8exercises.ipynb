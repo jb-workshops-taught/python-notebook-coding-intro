{
 "cells": [
  {
   "cell_type": "markdown",
   "metadata": {},
   "source": [
    "# Lesson 8: String Processing"
   ]
  },
  {
   "cell_type": "markdown",
   "metadata": {},
   "source": [
    "The following exercises let you practice on string processing.  You'll need the lesson page open for examples since there are too many to list here.  I've linked to the python string functions (string methods) just below; you're welcome to use it as a reference as well."
   ]
  },
  {
   "cell_type": "markdown",
   "metadata": {},
   "source": [
    "https://docs.python.org/2/library/stdtypes.html#string-methods"
   ]
  },
  {
   "cell_type": "markdown",
   "metadata": {},
   "source": [
    "Print each child's name with the first letter capitalized. (Loop through and do this with code, not just writing it out by hand.)"
   ]
  },
  {
   "cell_type": "code",
   "execution_count": null,
   "metadata": {
    "collapsed": true
   },
   "outputs": [],
   "source": [
    "children = [\"sally\", \"jenny\", \"latoya\", \"atalia\", \"yu\"]\n",
    "\n"
   ]
  },
  {
   "cell_type": "markdown",
   "metadata": {},
   "source": [
    "Make separate lists of letters and numbers."
   ]
  },
  {
   "cell_type": "code",
   "execution_count": null,
   "metadata": {
    "collapsed": true
   },
   "outputs": [],
   "source": [
    "text = \"s7p9r2o3ut5s3\"\n",
    "\n",
    "\n"
   ]
  },
  {
   "cell_type": "markdown",
   "metadata": {},
   "source": [
    "A web server records information about who visits the web pages.  Here's an example of the data.  The fields from left to right are time, IP address, request type GET/POST, url, response code.\n",
    "\n",
    "    02:49:35 127.0.0.1 GET /index.html 200\n",
    "    03:01:06 127.0.0.1 GET /images/logo.gif 304\n",
    "    03:52:36 127.0.0.1 GET /search.php 200\n",
    "    04:17:03 127.0.0.1 GET /style.css 200\n",
    "    05:04:54 127.0.0.1 GET /favicon.ico 404\n",
    "\n",
    "Write code that parses this into separate fields and counts up how many 200-OK codes were served versus how many 404-not-founds were served.  The data is listed in the field below.  Your code should be suitable for any number of rows, although for convenience we're just using a short clip of data here."
   ]
  },
  {
   "cell_type": "code",
   "execution_count": 36,
   "metadata": {
    "collapsed": false
   },
   "outputs": [],
   "source": [
    "data=\"02:49:35 127.0.0.1 GET /index.html 200\\n03:01:06 127.0.0.1 GET /images/logo.gif 304\\n03:52:36 127.0.0.1 GET /search.php 200\\n04:17:03 127.0.0.1 GET /style.css 200\\n05:04:54 127.0.0.1 GET /favicon.ico 404\\n\""
   ]
  },
  {
   "cell_type": "code",
   "execution_count": null,
   "metadata": {
    "collapsed": true
   },
   "outputs": [],
   "source": []
  },
  {
   "cell_type": "markdown",
   "metadata": {},
   "source": [
    "Sometimes a file format includes an indicator of the row type followed by data for that row, and then the next row contains a different type.  Here's an example.\n",
    "\n",
    "    D2015-07-01\n",
    "    T85,66\n",
    "    D2015-07-02\n",
    "    T78,70\n",
    "    D2015-07-03\n",
    "    T80,72\n",
    "    D2015-07-04\n",
    "    T81,72\n",
    "    D2015-07-05\n",
    "    T80,73\n",
    "\n",
    "In this case, you need to handle the contents of the line different depending on what the line starts with.  Write code that parses this format and separates out the data into arrays.  Then calculate the average high temp and the average low temp for this week.\n"
   ]
  },
  {
   "cell_type": "code",
   "execution_count": 37,
   "metadata": {
    "collapsed": true
   },
   "outputs": [],
   "source": [
    "tempsfile=\"D2015-07-01\\nT85,66\\nD2015-07-02\\nT78,70\\nD2015-07-03\\nT80,72\\nD2015-07-04\\nT81,72\\nD2015-07-05\\nT80,73\"\n",
    "\n",
    "\n"
   ]
  },
  {
   "cell_type": "markdown",
   "metadata": {},
   "source": [
    "Feel free to mess around and create your own code as well."
   ]
  },
  {
   "cell_type": "code",
   "execution_count": null,
   "metadata": {
    "collapsed": true
   },
   "outputs": [],
   "source": []
  }
 ],
 "metadata": {
  "kernelspec": {
   "display_name": "Python 2",
   "language": "python",
   "name": "python2"
  },
  "language_info": {
   "codemirror_mode": {
    "name": "ipython",
    "version": 2
   },
   "file_extension": ".py",
   "mimetype": "text/x-python",
   "name": "python",
   "nbconvert_exporter": "python",
   "pygments_lexer": "ipython2",
   "version": "2.7.10"
  }
 },
 "nbformat": 4,
 "nbformat_minor": 0
}
