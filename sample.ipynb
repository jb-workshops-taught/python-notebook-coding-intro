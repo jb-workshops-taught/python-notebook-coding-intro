{
 "cells": [
  {
   "cell_type": "markdown",
   "metadata": {},
   "source": [
    "# You've successfully uploaded a saved notebook! \n",
    "## Congratulations!\n",
    "\n",
    "You will download and upload a notebook for each of the lessons remaining.  Some parts of the notebook will be text, like this cell is, while others are interactive source code blocks and code examples.\n",
    "\n",
    "Each lesson will teach you a new concept and then give you lots of opportunities to practice it.  At the end of each lesson, you can write your own code to do anything you want!  \n",
    "\n",
    "If you write your own code and want to save it, use the File menu to Download as IPython Notebook.  Keep track of what you name it and where you save it.  You can always upload it again later to keep working on it!  You can also use File, New to start with a blank sheet if you want to play around with your own ideas."
   ]
  },
  {
   "cell_type": "code",
   "execution_count": null,
   "metadata": {
    "collapsed": true
   },
   "outputs": [],
   "source": []
  },
  {
   "cell_type": "code",
   "execution_count": null,
   "metadata": {
    "collapsed": true
   },
   "outputs": [],
   "source": []
  },
  {
   "cell_type": "code",
   "execution_count": null,
   "metadata": {
    "collapsed": true
   },
   "outputs": [],
   "source": []
  },
  {
   "cell_type": "code",
   "execution_count": null,
   "metadata": {
    "collapsed": true
   },
   "outputs": [],
   "source": []
  }
 ],
 "metadata": {
  "kernelspec": {
   "display_name": "Python 3",
   "language": "python",
   "name": "python3"
  },
  "language_info": {
   "codemirror_mode": {
    "name": "ipython",
    "version": 3
   },
   "file_extension": ".py",
   "mimetype": "text/x-python",
   "name": "python",
   "nbconvert_exporter": "python",
   "pygments_lexer": "ipython3",
   "version": "3.4.3"
  }
 },
 "nbformat": 4,
 "nbformat_minor": 0
}
